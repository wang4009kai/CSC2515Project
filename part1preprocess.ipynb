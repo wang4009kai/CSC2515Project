{
 "cells": [
  {
   "cell_type": "code",
   "execution_count": 2,
   "metadata": {},
   "outputs": [],
   "source": [
    "# imports\n",
    "import pandas as pd\n",
    "import numpy as np\n",
    "import json\n",
    "# pre-process\n",
    "import texthero as hero\n",
    "from texthero import preprocessing\n",
    "import nltk\n",
    "from nltk.tokenize.treebank import TreebankWordDetokenizer\n",
    "import spacy\n"
   ]
  },
  {
   "cell_type": "code",
   "execution_count": 2,
   "metadata": {},
   "outputs": [],
   "source": [
    "# loding data into pandas df\n",
    "review = pd.read_json('./train.json', lines=True)"
   ]
  },
  {
   "cell_type": "code",
   "execution_count": 31,
   "metadata": {},
   "outputs": [],
   "source": [
    "# drop the empty column\n",
    "review.drop('image', axis=1, inplace=True)"
   ]
  },
  {
   "cell_type": "code",
   "execution_count": 32,
   "metadata": {},
   "outputs": [],
   "source": [
    "# pre-process the data\n",
    "custom_pipeline = [preprocessing.remove_html_tags,\n",
    "                   preprocessing.drop_no_content,\n",
    "                   preprocessing.remove_urls,\n",
    "                   preprocessing.remove_punctuation,\n",
    "                   preprocessing.lowercase,\n",
    "                   preprocessing.remove_diacritics,\n",
    "                   preprocessing.remove_stopwords,\n",
    "                   preprocessing.remove_whitespace]\n",
    "\n",
    "review['clean_lemmatized'] = hero.clean(review['reviewText'], custom_pipeline)\n",
    "\n",
    "review.replace('', np.nan, inplace=True)\n",
    "review.dropna(inplace = True)"
   ]
  },
  {
   "cell_type": "code",
   "execution_count": 33,
   "metadata": {},
   "outputs": [],
   "source": [
    "# Code with \n",
    "# Code is modifed over Ed Rushton's answer in https://stackoverflow.com/questions/44395656/applying-spacy-parser-to-pandas-dataframe-w-multiprocessing\n",
    "nlp = spacy.load('en_core_web_sm')\n",
    "\n",
    "tokens = []\n",
    "text = []\n",
    "pos = []\n",
    "\n",
    "USERFUL_POS = ['VERB', 'ADV', 'ADJ']\n",
    "\n",
    "for doc in nlp.pipe(review['reviewText'].astype('unicode').values):\n",
    "    if doc.is_parsed:\n",
    "        lemma.append([n.lemma_ for n in doc if n.pos_ in USERFUL_POS])\n",
    "        pos.append([n.pos_ for n in doc if n.pos_ in USERFUL_POS])\n",
    "    else:\n",
    "        # We want to make sure that the lists of parsed results have the\n",
    "        # same number of entries of the original Dataframe, so add some blanks in case the parse fails\n",
    "        tokens.append(None)\n",
    "        text.append(None)\n",
    "        pos.append(None)\n",
    "\n",
    "review['review_lemma'] = lemma\n",
    "review['review_pos'] = pos"
   ]
  },
  {
   "cell_type": "code",
   "execution_count": 35,
   "metadata": {},
   "outputs": [],
   "source": [
    "review['clean_lemmatized'] = review['review_lemma'].apply(lambda x: TreebankWordDetokenizer().detokenize(x))"
   ]
  },
  {
   "cell_type": "code",
   "execution_count": 38,
   "metadata": {},
   "outputs": [],
   "source": [
    "review.to_json(r'./preprocessedTrain.json', orient='records', lines=True)"
   ]
  },
  {
   "cell_type": "code",
   "execution_count": null,
   "metadata": {},
   "outputs": [],
   "source": []
  },
  {
   "cell_type": "code",
   "execution_count": null,
   "metadata": {},
   "outputs": [],
   "source": [
    "Data visiualization"
   ]
  },
  {
   "cell_type": "code",
   "execution_count": 3,
   "metadata": {},
   "outputs": [],
   "source": [
    "df = pd.read_json('./train.json', lines=True)"
   ]
  },
  {
   "cell_type": "code",
   "execution_count": 5,
   "metadata": {},
   "outputs": [
    {
     "data": {
      "text/html": [
       "<div>\n",
       "<style scoped>\n",
       "    .dataframe tbody tr th:only-of-type {\n",
       "        vertical-align: middle;\n",
       "    }\n",
       "\n",
       "    .dataframe tbody tr th {\n",
       "        vertical-align: top;\n",
       "    }\n",
       "\n",
       "    .dataframe thead th {\n",
       "        text-align: right;\n",
       "    }\n",
       "</style>\n",
       "<table border=\"1\" class=\"dataframe\">\n",
       "  <thead>\n",
       "    <tr style=\"text-align: right;\">\n",
       "      <th></th>\n",
       "      <th>overall</th>\n",
       "      <th>reviewTime</th>\n",
       "      <th>reviewerID</th>\n",
       "      <th>reviewText</th>\n",
       "      <th>summary</th>\n",
       "      <th>unixReviewTime</th>\n",
       "      <th>category</th>\n",
       "      <th>price</th>\n",
       "      <th>itemID</th>\n",
       "      <th>reviewHash</th>\n",
       "      <th>image</th>\n",
       "    </tr>\n",
       "  </thead>\n",
       "  <tbody>\n",
       "    <tr>\n",
       "      <th>0</th>\n",
       "      <td>4</td>\n",
       "      <td>08 24, 2010</td>\n",
       "      <td>u04428712</td>\n",
       "      <td>So is Katy Perry's new album \"Teenage Dream\" c...</td>\n",
       "      <td>Amazing that I Actually Bought This...More Ama...</td>\n",
       "      <td>1282608000</td>\n",
       "      <td>Pop</td>\n",
       "      <td>$35.93</td>\n",
       "      <td>p70761125</td>\n",
       "      <td>85559980</td>\n",
       "      <td>NaN</td>\n",
       "    </tr>\n",
       "    <tr>\n",
       "      <th>1</th>\n",
       "      <td>5</td>\n",
       "      <td>10 31, 2009</td>\n",
       "      <td>u06946603</td>\n",
       "      <td>I got this CD almost 10 years ago, and given t...</td>\n",
       "      <td>Excellent album</td>\n",
       "      <td>1256947200</td>\n",
       "      <td>Alternative Rock</td>\n",
       "      <td>$11.28</td>\n",
       "      <td>p85427891</td>\n",
       "      <td>41699565</td>\n",
       "      <td>NaN</td>\n",
       "    </tr>\n",
       "    <tr>\n",
       "      <th>2</th>\n",
       "      <td>4</td>\n",
       "      <td>10 13, 2015</td>\n",
       "      <td>u92735614</td>\n",
       "      <td>I REALLY enjoy this pairing of Anderson and Po...</td>\n",
       "      <td>Love the Music, Hate the Light Show</td>\n",
       "      <td>1444694400</td>\n",
       "      <td>Pop</td>\n",
       "      <td>$89.86</td>\n",
       "      <td>p82172532</td>\n",
       "      <td>24751194</td>\n",
       "      <td>NaN</td>\n",
       "    </tr>\n",
       "    <tr>\n",
       "      <th>3</th>\n",
       "      <td>5</td>\n",
       "      <td>06 28, 2017</td>\n",
       "      <td>u35112935</td>\n",
       "      <td>Finally got it . It was everything thought it ...</td>\n",
       "      <td>Great</td>\n",
       "      <td>1498608000</td>\n",
       "      <td>Pop</td>\n",
       "      <td>$11.89</td>\n",
       "      <td>p15255251</td>\n",
       "      <td>22820631</td>\n",
       "      <td>NaN</td>\n",
       "    </tr>\n",
       "    <tr>\n",
       "      <th>4</th>\n",
       "      <td>4</td>\n",
       "      <td>10 12, 2015</td>\n",
       "      <td>u07141505</td>\n",
       "      <td>Look at all star cast.  Outstanding record, pl...</td>\n",
       "      <td>Love these guys.</td>\n",
       "      <td>1444608000</td>\n",
       "      <td>Jazz</td>\n",
       "      <td>$15.24</td>\n",
       "      <td>p82618188</td>\n",
       "      <td>53377470</td>\n",
       "      <td>NaN</td>\n",
       "    </tr>\n",
       "  </tbody>\n",
       "</table>\n",
       "</div>"
      ],
      "text/plain": [
       "   overall   reviewTime reviewerID  \\\n",
       "0        4  08 24, 2010  u04428712   \n",
       "1        5  10 31, 2009  u06946603   \n",
       "2        4  10 13, 2015  u92735614   \n",
       "3        5  06 28, 2017  u35112935   \n",
       "4        4  10 12, 2015  u07141505   \n",
       "\n",
       "                                          reviewText  \\\n",
       "0  So is Katy Perry's new album \"Teenage Dream\" c...   \n",
       "1  I got this CD almost 10 years ago, and given t...   \n",
       "2  I REALLY enjoy this pairing of Anderson and Po...   \n",
       "3  Finally got it . It was everything thought it ...   \n",
       "4  Look at all star cast.  Outstanding record, pl...   \n",
       "\n",
       "                                             summary  unixReviewTime  \\\n",
       "0  Amazing that I Actually Bought This...More Ama...      1282608000   \n",
       "1                                    Excellent album      1256947200   \n",
       "2                Love the Music, Hate the Light Show      1444694400   \n",
       "3                                              Great      1498608000   \n",
       "4                                   Love these guys.      1444608000   \n",
       "\n",
       "           category   price     itemID  reviewHash image  \n",
       "0               Pop  $35.93  p70761125    85559980   NaN  \n",
       "1  Alternative Rock  $11.28  p85427891    41699565   NaN  \n",
       "2               Pop  $89.86  p82172532    24751194   NaN  \n",
       "3               Pop  $11.89  p15255251    22820631   NaN  \n",
       "4              Jazz  $15.24  p82618188    53377470   NaN  "
      ]
     },
     "execution_count": 5,
     "metadata": {},
     "output_type": "execute_result"
    },
    {
     "data": {
      "image/png": "[encoded data removed]",
      "text/plain": [
       "<Figure size 432x288 with 1 Axes>"
      ]
     },
     "metadata": {
      "needs_background": "light"
     },
     "output_type": "display_data"
    }
   ],
   "source": [
    "df['overall'].hist();pd.head()"
   ]
  },
  {
   "cell_type": "code",
   "execution_count": 4,
   "metadata": {},
   "outputs": [],
   "source": [
    "df = pd.read_json('./preprocessedTrain.json', lines=True)"
   ]
  },
  {
   "cell_type": "code",
   "execution_count": 5,
   "metadata": {},
   "outputs": [],
   "source": [
    "df['count_reviewer'] = df.groupby('reviewerID')['reviewerID'].transform('count')"
   ]
  },
  {
   "cell_type": "code",
   "execution_count": null,
   "metadata": {},
   "outputs": [],
   "source": [
    "ax = df['count_reviewer'].plot.kde()\n",
    "ax.set_xlim(0, 30)"
   ]
  },
  {
   "cell_type": "code",
   "execution_count": 6,
   "metadata": {},
   "outputs": [],
   "source": [
    "ranges = [0, 1, 3, 5, 10, 20, 30, 40, 50, 60, 70, 80, 90, 100, 200, 300, 400, 500]"
   ]
  },
  {
   "cell_type": "code",
   "execution_count": 7,
   "metadata": {},
   "outputs": [],
   "source": [
    "df['range'] = pd.cut(df.count_reviewer, ranges)"
   ]
  },
  {
   "cell_type": "code",
   "execution_count": 32,
   "metadata": {},
   "outputs": [],
   "source": [
    "df['reviewer_group_count'] = df.groupby('range')['range'].transform('count')"
   ]
  },
  {
   "cell_type": "code",
   "execution_count": 38,
   "metadata": {},
   "outputs": [],
   "source": [
    "countReviewer = df.groupby(['range'])['count_reviewer'].count()"
   ]
  },
  {
   "cell_type": "code",
   "execution_count": 39,
   "metadata": {},
   "outputs": [
    {
     "data": {
      "text/html": [
       "<div>\n",
       "<style scoped>\n",
       "    .dataframe tbody tr th:only-of-type {\n",
       "        vertical-align: middle;\n",
       "    }\n",
       "\n",
       "    .dataframe tbody tr th {\n",
       "        vertical-align: top;\n",
       "    }\n",
       "\n",
       "    .dataframe thead th {\n",
       "        text-align: right;\n",
       "    }\n",
       "</style>\n",
       "<table border=\"1\" class=\"dataframe\">\n",
       "  <thead>\n",
       "    <tr style=\"text-align: right;\">\n",
       "      <th></th>\n",
       "      <th>count_reviewer</th>\n",
       "    </tr>\n",
       "    <tr>\n",
       "      <th>range</th>\n",
       "      <th></th>\n",
       "    </tr>\n",
       "  </thead>\n",
       "  <tbody>\n",
       "    <tr>\n",
       "      <th>(0, 1]</th>\n",
       "      <td>31783</td>\n",
       "    </tr>\n",
       "    <tr>\n",
       "      <th>(1, 3]</th>\n",
       "      <td>64824</td>\n",
       "    </tr>\n",
       "    <tr>\n",
       "      <th>(3, 5]</th>\n",
       "      <td>29950</td>\n",
       "    </tr>\n",
       "    <tr>\n",
       "      <th>(5, 10]</th>\n",
       "      <td>27456</td>\n",
       "    </tr>\n",
       "    <tr>\n",
       "      <th>(10, 20]</th>\n",
       "      <td>18488</td>\n",
       "    </tr>\n",
       "    <tr>\n",
       "      <th>(20, 30]</th>\n",
       "      <td>7271</td>\n",
       "    </tr>\n",
       "    <tr>\n",
       "      <th>(30, 40]</th>\n",
       "      <td>3825</td>\n",
       "    </tr>\n",
       "    <tr>\n",
       "      <th>(40, 50]</th>\n",
       "      <td>2707</td>\n",
       "    </tr>\n",
       "    <tr>\n",
       "      <th>(50, 60]</th>\n",
       "      <td>1788</td>\n",
       "    </tr>\n",
       "    <tr>\n",
       "      <th>(60, 70]</th>\n",
       "      <td>1757</td>\n",
       "    </tr>\n",
       "    <tr>\n",
       "      <th>(70, 80]</th>\n",
       "      <td>1181</td>\n",
       "    </tr>\n",
       "    <tr>\n",
       "      <th>(80, 90]</th>\n",
       "      <td>1190</td>\n",
       "    </tr>\n",
       "    <tr>\n",
       "      <th>(90, 100]</th>\n",
       "      <td>660</td>\n",
       "    </tr>\n",
       "    <tr>\n",
       "      <th>(100, 200]</th>\n",
       "      <td>4185</td>\n",
       "    </tr>\n",
       "    <tr>\n",
       "      <th>(200, 300]</th>\n",
       "      <td>975</td>\n",
       "    </tr>\n",
       "    <tr>\n",
       "      <th>(300, 400]</th>\n",
       "      <td>670</td>\n",
       "    </tr>\n",
       "    <tr>\n",
       "      <th>(400, 500]</th>\n",
       "      <td>901</td>\n",
       "    </tr>\n",
       "  </tbody>\n",
       "</table>\n",
       "</div>"
      ],
      "text/plain": [
       "            count_reviewer\n",
       "range                     \n",
       "(0, 1]               31783\n",
       "(1, 3]               64824\n",
       "(3, 5]               29950\n",
       "(5, 10]              27456\n",
       "(10, 20]             18488\n",
       "(20, 30]              7271\n",
       "(30, 40]              3825\n",
       "(40, 50]              2707\n",
       "(50, 60]              1788\n",
       "(60, 70]              1757\n",
       "(70, 80]              1181\n",
       "(80, 90]              1190\n",
       "(90, 100]              660\n",
       "(100, 200]            4185\n",
       "(200, 300]             975\n",
       "(300, 400]             670\n",
       "(400, 500]             901"
      ]
     },
     "execution_count": 39,
     "metadata": {},
     "output_type": "execute_result"
    }
   ],
   "source": [
    "countReviewerdf = pd.DataFrame(test)\n",
    "countReviewerdf"
   ]
  },
  {
   "cell_type": "code",
   "execution_count": 43,
   "metadata": {},
   "outputs": [
    {
     "data": {
      "text/plain": [
       "<matplotlib.axes._subplots.AxesSubplot at 0x7fdeea23f2e0>"
      ]
     },
     "execution_count": 43,
     "metadata": {},
     "output_type": "execute_result"
    },
    {
     "data": {
      "image/png": "[encoded data removed]",
      "text/plain": [
       "<Figure size 432x288 with 1 Axes>"
      ]
     },
     "metadata": {
      "needs_background": "light"
     },
     "output_type": "display_data"
    }
   ],
   "source": [
    "countReviewerdf.plot.bar(y='count_reviewer')"
   ]
  },
  {
   "cell_type": "code",
   "execution_count": null,
   "metadata": {},
   "outputs": [],
   "source": []
  },
  {
   "cell_type": "code",
   "execution_count": 44,
   "metadata": {},
   "outputs": [],
   "source": [
    "df['count_item'] = df.groupby('itemID')['itemID'].transform('count')"
   ]
  },
  {
   "cell_type": "code",
   "execution_count": 46,
   "metadata": {},
   "outputs": [],
   "source": [
    "ranges = [0, 1, 3, 5, 10, 20, 30, 40, 50, 60, 70, 80, 90, 100, 200, 300]"
   ]
  },
  {
   "cell_type": "code",
   "execution_count": 47,
   "metadata": {},
   "outputs": [],
   "source": [
    "df['range_item'] = pd.cut(df.count_item, ranges)"
   ]
  },
  {
   "cell_type": "code",
   "execution_count": 50,
   "metadata": {},
   "outputs": [
    {
     "data": {
      "text/html": [
       "<div>\n",
       "<style scoped>\n",
       "    .dataframe tbody tr th:only-of-type {\n",
       "        vertical-align: middle;\n",
       "    }\n",
       "\n",
       "    .dataframe tbody tr th {\n",
       "        vertical-align: top;\n",
       "    }\n",
       "\n",
       "    .dataframe thead th {\n",
       "        text-align: right;\n",
       "    }\n",
       "</style>\n",
       "<table border=\"1\" class=\"dataframe\">\n",
       "  <thead>\n",
       "    <tr style=\"text-align: right;\">\n",
       "      <th></th>\n",
       "      <th>count_item</th>\n",
       "    </tr>\n",
       "    <tr>\n",
       "      <th>range_item</th>\n",
       "      <th></th>\n",
       "    </tr>\n",
       "  </thead>\n",
       "  <tbody>\n",
       "    <tr>\n",
       "      <th>(0, 1]</th>\n",
       "      <td>2199</td>\n",
       "    </tr>\n",
       "    <tr>\n",
       "      <th>(1, 3]</th>\n",
       "      <td>21022</td>\n",
       "    </tr>\n",
       "    <tr>\n",
       "      <th>(3, 5]</th>\n",
       "      <td>25088</td>\n",
       "    </tr>\n",
       "    <tr>\n",
       "      <th>(5, 10]</th>\n",
       "      <td>36541</td>\n",
       "    </tr>\n",
       "    <tr>\n",
       "      <th>(10, 20]</th>\n",
       "      <td>36555</td>\n",
       "    </tr>\n",
       "    <tr>\n",
       "      <th>(20, 30]</th>\n",
       "      <td>19587</td>\n",
       "    </tr>\n",
       "    <tr>\n",
       "      <th>(30, 40]</th>\n",
       "      <td>12527</td>\n",
       "    </tr>\n",
       "    <tr>\n",
       "      <th>(40, 50]</th>\n",
       "      <td>9454</td>\n",
       "    </tr>\n",
       "    <tr>\n",
       "      <th>(50, 60]</th>\n",
       "      <td>7787</td>\n",
       "    </tr>\n",
       "    <tr>\n",
       "      <th>(60, 70]</th>\n",
       "      <td>5877</td>\n",
       "    </tr>\n",
       "    <tr>\n",
       "      <th>(70, 80]</th>\n",
       "      <td>4532</td>\n",
       "    </tr>\n",
       "    <tr>\n",
       "      <th>(80, 90]</th>\n",
       "      <td>3760</td>\n",
       "    </tr>\n",
       "    <tr>\n",
       "      <th>(90, 100]</th>\n",
       "      <td>2486</td>\n",
       "    </tr>\n",
       "    <tr>\n",
       "      <th>(100, 200]</th>\n",
       "      <td>10189</td>\n",
       "    </tr>\n",
       "    <tr>\n",
       "      <th>(200, 300]</th>\n",
       "      <td>2007</td>\n",
       "    </tr>\n",
       "  </tbody>\n",
       "</table>\n",
       "</div>"
      ],
      "text/plain": [
       "            count_item\n",
       "range_item            \n",
       "(0, 1]            2199\n",
       "(1, 3]           21022\n",
       "(3, 5]           25088\n",
       "(5, 10]          36541\n",
       "(10, 20]         36555\n",
       "(20, 30]         19587\n",
       "(30, 40]         12527\n",
       "(40, 50]          9454\n",
       "(50, 60]          7787\n",
       "(60, 70]          5877\n",
       "(70, 80]          4532\n",
       "(80, 90]          3760\n",
       "(90, 100]         2486\n",
       "(100, 200]       10189\n",
       "(200, 300]        2007"
      ]
     },
     "execution_count": 50,
     "metadata": {},
     "output_type": "execute_result"
    }
   ],
   "source": [
    "countItem = df.groupby(['range_item'])['count_item'].count()\n",
    "countItemdf = pd.DataFrame(countItem)\n",
    "countItemdf"
   ]
  },
  {
   "cell_type": "code",
   "execution_count": 51,
   "metadata": {},
   "outputs": [
    {
     "data": {
      "text/plain": [
       "<matplotlib.axes._subplots.AxesSubplot at 0x7fdeea17b340>"
      ]
     },
     "execution_count": 51,
     "metadata": {},
     "output_type": "execute_result"
    },
    {
     "data": {
      "image/png": "[encoded data removed]",
      "text/plain": [
       "<Figure size 432x288 with 1 Axes>"
      ]
     },
     "metadata": {
      "needs_background": "light"
     },
     "output_type": "display_data"
    }
   ],
   "source": [
    "countItemdf.plot.bar(y='count_item')"
   ]
  },
  {
   "cell_type": "code",
   "execution_count": 7,
   "metadata": {},
   "outputs": [],
   "source": [
    "df['token_count'] = df['review_tokens'].str.len()"
   ]
  },
  {
   "cell_type": "code",
   "execution_count": 26,
   "metadata": {},
   "outputs": [
    {
     "data": {
      "text/html": [
       "<div>\n",
       "<style scoped>\n",
       "    .dataframe tbody tr th:only-of-type {\n",
       "        vertical-align: middle;\n",
       "    }\n",
       "\n",
       "    .dataframe tbody tr th {\n",
       "        vertical-align: top;\n",
       "    }\n",
       "\n",
       "    .dataframe thead th {\n",
       "        text-align: right;\n",
       "    }\n",
       "</style>\n",
       "<table border=\"1\" class=\"dataframe\">\n",
       "  <thead>\n",
       "    <tr style=\"text-align: right;\">\n",
       "      <th></th>\n",
       "      <th>overall</th>\n",
       "      <th>reviewTime</th>\n",
       "      <th>reviewerID</th>\n",
       "      <th>reviewText</th>\n",
       "      <th>summary</th>\n",
       "      <th>unixReviewTime</th>\n",
       "      <th>category</th>\n",
       "      <th>price</th>\n",
       "      <th>itemID</th>\n",
       "      <th>reviewHash</th>\n",
       "      <th>review_tokens</th>\n",
       "      <th>review_lemma</th>\n",
       "      <th>review_pos</th>\n",
       "      <th>review_joined</th>\n",
       "      <th>token_count</th>\n",
       "      <th>count_reviewer</th>\n",
       "    </tr>\n",
       "  </thead>\n",
       "  <tbody>\n",
       "    <tr>\n",
       "      <th>5</th>\n",
       "      <td>5</td>\n",
       "      <td>09 7, 2015</td>\n",
       "      <td>u07624734</td>\n",
       "      <td>k</td>\n",
       "      <td>Five Stars</td>\n",
       "      <td>1441584000</td>\n",
       "      <td>Pop</td>\n",
       "      <td>$14.99</td>\n",
       "      <td>p78489708</td>\n",
       "      <td>23609516</td>\n",
       "      <td>[k]</td>\n",
       "      <td>[k]</td>\n",
       "      <td>[X]</td>\n",
       "      <td>k</td>\n",
       "      <td>1</td>\n",
       "      <td>4</td>\n",
       "    </tr>\n",
       "    <tr>\n",
       "      <th>7</th>\n",
       "      <td>5</td>\n",
       "      <td>03 3, 2016</td>\n",
       "      <td>u88679770</td>\n",
       "      <td>great</td>\n",
       "      <td>Five Stars</td>\n",
       "      <td>1456963200</td>\n",
       "      <td>Pop</td>\n",
       "      <td>$16.98</td>\n",
       "      <td>p92272123</td>\n",
       "      <td>76307426</td>\n",
       "      <td>[great]</td>\n",
       "      <td>[great]</td>\n",
       "      <td>[ADJ]</td>\n",
       "      <td>great</td>\n",
       "      <td>1</td>\n",
       "      <td>10</td>\n",
       "    </tr>\n",
       "    <tr>\n",
       "      <th>12</th>\n",
       "      <td>3</td>\n",
       "      <td>03 3, 2015</td>\n",
       "      <td>u80326609</td>\n",
       "      <td>good</td>\n",
       "      <td>Three Stars</td>\n",
       "      <td>1425340800</td>\n",
       "      <td>Pop</td>\n",
       "      <td>$8.99</td>\n",
       "      <td>p02683876</td>\n",
       "      <td>23898724</td>\n",
       "      <td>[good]</td>\n",
       "      <td>[good]</td>\n",
       "      <td>[ADJ]</td>\n",
       "      <td>good</td>\n",
       "      <td>1</td>\n",
       "      <td>1</td>\n",
       "    </tr>\n",
       "    <tr>\n",
       "      <th>14</th>\n",
       "      <td>5</td>\n",
       "      <td>08 12, 2016</td>\n",
       "      <td>u66989964</td>\n",
       "      <td>fave</td>\n",
       "      <td>Five Stars</td>\n",
       "      <td>1470960000</td>\n",
       "      <td>Pop</td>\n",
       "      <td>$11.57</td>\n",
       "      <td>p83852395</td>\n",
       "      <td>5580669</td>\n",
       "      <td>[fave]</td>\n",
       "      <td>[fave]</td>\n",
       "      <td>[VERB]</td>\n",
       "      <td>fave</td>\n",
       "      <td>1</td>\n",
       "      <td>2</td>\n",
       "    </tr>\n",
       "    <tr>\n",
       "      <th>55</th>\n",
       "      <td>2</td>\n",
       "      <td>05 9, 2015</td>\n",
       "      <td>u22557442</td>\n",
       "      <td>expected</td>\n",
       "      <td>Two Stars</td>\n",
       "      <td>1431129600</td>\n",
       "      <td>Classical</td>\n",
       "      <td>$11.83</td>\n",
       "      <td>p38301739</td>\n",
       "      <td>92395778</td>\n",
       "      <td>[expected]</td>\n",
       "      <td>[expect]</td>\n",
       "      <td>[VERB]</td>\n",
       "      <td>expect</td>\n",
       "      <td>1</td>\n",
       "      <td>3</td>\n",
       "    </tr>\n",
       "    <tr>\n",
       "      <th>...</th>\n",
       "      <td>...</td>\n",
       "      <td>...</td>\n",
       "      <td>...</td>\n",
       "      <td>...</td>\n",
       "      <td>...</td>\n",
       "      <td>...</td>\n",
       "      <td>...</td>\n",
       "      <td>...</td>\n",
       "      <td>...</td>\n",
       "      <td>...</td>\n",
       "      <td>...</td>\n",
       "      <td>...</td>\n",
       "      <td>...</td>\n",
       "      <td>...</td>\n",
       "      <td>...</td>\n",
       "      <td>...</td>\n",
       "    </tr>\n",
       "    <tr>\n",
       "      <th>199570</th>\n",
       "      <td>5</td>\n",
       "      <td>02 28, 2015</td>\n",
       "      <td>u87515250</td>\n",
       "      <td>ok</td>\n",
       "      <td>Five Stars</td>\n",
       "      <td>1425081600</td>\n",
       "      <td>Pop</td>\n",
       "      <td>$7.29</td>\n",
       "      <td>p64932290</td>\n",
       "      <td>5963110</td>\n",
       "      <td>[ok]</td>\n",
       "      <td>[ok]</td>\n",
       "      <td>[INTJ]</td>\n",
       "      <td>ok</td>\n",
       "      <td>1</td>\n",
       "      <td>15</td>\n",
       "    </tr>\n",
       "    <tr>\n",
       "      <th>199596</th>\n",
       "      <td>4</td>\n",
       "      <td>12 4, 2014</td>\n",
       "      <td>u65640560</td>\n",
       "      <td>collection</td>\n",
       "      <td>Four Stars</td>\n",
       "      <td>1417651200</td>\n",
       "      <td>Jazz</td>\n",
       "      <td>$2.15</td>\n",
       "      <td>p76891834</td>\n",
       "      <td>67429536</td>\n",
       "      <td>[collection]</td>\n",
       "      <td>[collection]</td>\n",
       "      <td>[NOUN]</td>\n",
       "      <td>collection</td>\n",
       "      <td>1</td>\n",
       "      <td>4</td>\n",
       "    </tr>\n",
       "    <tr>\n",
       "      <th>199597</th>\n",
       "      <td>5</td>\n",
       "      <td>11 8, 2015</td>\n",
       "      <td>u85136324</td>\n",
       "      <td>love</td>\n",
       "      <td>Five Stars</td>\n",
       "      <td>1446940800</td>\n",
       "      <td>Pop</td>\n",
       "      <td>$11.88</td>\n",
       "      <td>p02978017</td>\n",
       "      <td>27368058</td>\n",
       "      <td>[love]</td>\n",
       "      <td>[love]</td>\n",
       "      <td>[NOUN]</td>\n",
       "      <td>love</td>\n",
       "      <td>1</td>\n",
       "      <td>1</td>\n",
       "    </tr>\n",
       "    <tr>\n",
       "      <th>199599</th>\n",
       "      <td>5</td>\n",
       "      <td>10 20, 2014</td>\n",
       "      <td>u37750462</td>\n",
       "      <td>great</td>\n",
       "      <td>Five Stars</td>\n",
       "      <td>1413763200</td>\n",
       "      <td>Alternative Rock</td>\n",
       "      <td>$18.98</td>\n",
       "      <td>p47415569</td>\n",
       "      <td>75099110</td>\n",
       "      <td>[great]</td>\n",
       "      <td>[great]</td>\n",
       "      <td>[ADJ]</td>\n",
       "      <td>great</td>\n",
       "      <td>1</td>\n",
       "      <td>3</td>\n",
       "    </tr>\n",
       "    <tr>\n",
       "      <th>199604</th>\n",
       "      <td>5</td>\n",
       "      <td>11 15, 2014</td>\n",
       "      <td>u85625112</td>\n",
       "      <td>excellent</td>\n",
       "      <td>Five Stars</td>\n",
       "      <td>1416009600</td>\n",
       "      <td>Alternative Rock</td>\n",
       "      <td>$9.95</td>\n",
       "      <td>p61111203</td>\n",
       "      <td>47089196</td>\n",
       "      <td>[excellent]</td>\n",
       "      <td>[excellent]</td>\n",
       "      <td>[ADJ]</td>\n",
       "      <td>excellent</td>\n",
       "      <td>1</td>\n",
       "      <td>4</td>\n",
       "    </tr>\n",
       "  </tbody>\n",
       "</table>\n",
       "<p>10347 rows × 16 columns</p>\n",
       "</div>"
      ],
      "text/plain": [
       "        overall   reviewTime reviewerID  reviewText      summary  \\\n",
       "5             5   09 7, 2015  u07624734           k   Five Stars   \n",
       "7             5   03 3, 2016  u88679770       great   Five Stars   \n",
       "12            3   03 3, 2015  u80326609        good  Three Stars   \n",
       "14            5  08 12, 2016  u66989964        fave   Five Stars   \n",
       "55            2   05 9, 2015  u22557442    expected    Two Stars   \n",
       "...         ...          ...        ...         ...          ...   \n",
       "199570        5  02 28, 2015  u87515250          ok   Five Stars   \n",
       "199596        4   12 4, 2014  u65640560  collection   Four Stars   \n",
       "199597        5   11 8, 2015  u85136324        love   Five Stars   \n",
       "199599        5  10 20, 2014  u37750462       great   Five Stars   \n",
       "199604        5  11 15, 2014  u85625112   excellent   Five Stars   \n",
       "\n",
       "        unixReviewTime          category   price     itemID  reviewHash  \\\n",
       "5           1441584000               Pop  $14.99  p78489708    23609516   \n",
       "7           1456963200               Pop  $16.98  p92272123    76307426   \n",
       "12          1425340800               Pop   $8.99  p02683876    23898724   \n",
       "14          1470960000               Pop  $11.57  p83852395     5580669   \n",
       "55          1431129600         Classical  $11.83  p38301739    92395778   \n",
       "...                ...               ...     ...        ...         ...   \n",
       "199570      1425081600               Pop   $7.29  p64932290     5963110   \n",
       "199596      1417651200              Jazz   $2.15  p76891834    67429536   \n",
       "199597      1446940800               Pop  $11.88  p02978017    27368058   \n",
       "199599      1413763200  Alternative Rock  $18.98  p47415569    75099110   \n",
       "199604      1416009600  Alternative Rock   $9.95  p61111203    47089196   \n",
       "\n",
       "       review_tokens  review_lemma review_pos review_joined  token_count  \\\n",
       "5                [k]           [k]        [X]             k            1   \n",
       "7            [great]       [great]      [ADJ]         great            1   \n",
       "12            [good]        [good]      [ADJ]          good            1   \n",
       "14            [fave]        [fave]     [VERB]          fave            1   \n",
       "55        [expected]      [expect]     [VERB]        expect            1   \n",
       "...              ...           ...        ...           ...          ...   \n",
       "199570          [ok]          [ok]     [INTJ]            ok            1   \n",
       "199596  [collection]  [collection]     [NOUN]    collection            1   \n",
       "199597        [love]        [love]     [NOUN]          love            1   \n",
       "199599       [great]       [great]      [ADJ]         great            1   \n",
       "199604   [excellent]   [excellent]      [ADJ]     excellent            1   \n",
       "\n",
       "        count_reviewer  \n",
       "5                    4  \n",
       "7                   10  \n",
       "12                   1  \n",
       "14                   2  \n",
       "55                   3  \n",
       "...                ...  \n",
       "199570              15  \n",
       "199596               4  \n",
       "199597               1  \n",
       "199599               3  \n",
       "199604               4  \n",
       "\n",
       "[10347 rows x 16 columns]"
      ]
     },
     "execution_count": 26,
     "metadata": {},
     "output_type": "execute_result"
    }
   ],
   "source": [
    "df[df['review_tokens'].str.len() == 1]"
   ]
  },
  {
   "cell_type": "code",
   "execution_count": 27,
   "metadata": {},
   "outputs": [
    {
     "data": {
      "text/plain": [
       "(0.0, 50.0)"
      ]
     },
     "execution_count": 27,
     "metadata": {},
     "output_type": "execute_result"
    },
    {
     "data": {
      "image/png": "[encoded data removed]",
      "text/plain": [
       "<Figure size 432x288 with 1 Axes>"
      ]
     },
     "metadata": {
      "needs_background": "light"
     },
     "output_type": "display_data"
    }
   ],
   "source": [
    "ax = df['token_count'].plot.kde()\n",
    "ax.set_xlim(0, 50)"
   ]
  },
  {
   "cell_type": "code",
   "execution_count": 24,
   "metadata": {},
   "outputs": [
    {
     "data": {
      "text/plain": [
       "<matplotlib.axes._subplots.AxesSubplot at 0x7f5081382eb0>"
      ]
     },
     "execution_count": 24,
     "metadata": {},
     "output_type": "execute_result"
    },
    {
     "data": {
      "image/png": "[encoded data removed]",
      "text/plain": [
       "<Figure size 432x288 with 1 Axes>"
      ]
     },
     "metadata": {
      "needs_background": "light"
     },
     "output_type": "display_data"
    }
   ],
   "source": [
    "df.reset_index().plot.scatter(x='token_count', y='index')"
   ]
  },
  {
   "cell_type": "code",
   "execution_count": 34,
   "metadata": {},
   "outputs": [
    {
     "data": {
      "text/plain": [
       "3.0"
      ]
     },
     "execution_count": 34,
     "metadata": {},
     "output_type": "execute_result"
    }
   ],
   "source": [
    "df.token_count.quantile(.1)"
   ]
  },
  {
   "cell_type": "code",
   "execution_count": 35,
   "metadata": {},
   "outputs": [
    {
     "data": {
      "text/plain": [
       "<matplotlib.axes._subplots.AxesSubplot at 0x7f508121a280>"
      ]
     },
     "execution_count": 35,
     "metadata": {},
     "output_type": "execute_result"
    },
    {
     "data": {
      "image/png": "[encoded data removed]",
      "text/plain": [
       "<Figure size 432x288 with 1 Axes>"
      ]
     },
     "metadata": {
      "needs_background": "light"
     },
     "output_type": "display_data"
    }
   ],
   "source": [
    "df.reset_index().plot.scatter(x='token_count', y='overall')"
   ]
  },
  {
   "cell_type": "code",
   "execution_count": null,
   "metadata": {},
   "outputs": [],
   "source": []
  },
  {
   "cell_type": "code",
   "execution_count": null,
   "metadata": {},
   "outputs": [],
   "source": []
  },
  {
   "cell_type": "code",
   "execution_count": null,
   "metadata": {},
   "outputs": [],
   "source": []
  },
  {
   "cell_type": "code",
   "execution_count": null,
   "metadata": {},
   "outputs": [],
   "source": []
  },
  {
   "cell_type": "markdown",
   "metadata": {},
   "source": [
    "# Part 2 experiment"
   ]
  },
  {
   "cell_type": "code",
   "execution_count": 36,
   "metadata": {},
   "outputs": [],
   "source": [
    "# used for part 2 only\n",
    "# review['clean_reviewText'] = review[['clean_lemmatized']]"
   ]
  },
  {
   "cell_type": "code",
   "execution_count": 14,
   "metadata": {},
   "outputs": [],
   "source": [
    "review1 = prep_nlp_data(review)"
   ]
  },
  {
   "cell_type": "code",
   "execution_count": 17,
   "metadata": {},
   "outputs": [],
   "source": [
    "# only used for part 2\n",
    "# review1['clean_summary'] = review1[['clean_lemmatized']]"
   ]
  },
  {
   "cell_type": "code",
   "execution_count": 19,
   "metadata": {},
   "outputs": [],
   "source": [
    "review1.to_json(r'./preprocessedP2Train.json', orient='records', lines=True)"
   ]
  },
  {
   "cell_type": "code",
   "execution_count": 6,
   "metadata": {},
   "outputs": [],
   "source": [
    "review1['clean_text'] = review1['clean_reviewText'] + review1['clean_summary']"
   ]
  },
  {
   "cell_type": "code",
   "execution_count": 9,
   "metadata": {},
   "outputs": [],
   "source": [
    "# for part 2\n",
    "nlp = spacy.load('en_core_web_sm')\n",
    "\n",
    "text = []\n",
    "\n",
    "USERFUL_POS = ['VERB', 'ADV', 'ADJ']\n",
    "\n",
    "for doc in nlp.pipe(review1['clean_text'].astype('unicode').values):\n",
    "    if doc.is_parsed:\n",
    "        text.append([n.text for n in doc if n.pos_ in USERFUL_POS])\n",
    "    else:\n",
    "        # We want to make sure that the lists of parsed results have the\n",
    "        # same number of entries of the original Dataframe, so add some blanks in case the parse fails\n",
    "        text.append(None)\n",
    "        pos.append(None)\n",
    "\n",
    "review1['review_text'] = text"
   ]
  },
  {
   "cell_type": "code",
   "execution_count": 12,
   "metadata": {},
   "outputs": [],
   "source": [
    "review1.to_json(r'./preprocessedPOSTrain.json', orient='records', lines=True)"
   ]
  },
  {
   "cell_type": "code",
   "execution_count": 3,
   "metadata": {},
   "outputs": [],
   "source": [
    "review = pd.read_json('./preprocessedPOSTrain.json', lines=True)"
   ]
  },
  {
   "cell_type": "code",
   "execution_count": 10,
   "metadata": {},
   "outputs": [],
   "source": [
    "review = review[review['review_text'].str.len() != 0]"
   ]
  },
  {
   "cell_type": "code",
   "execution_count": 13,
   "metadata": {},
   "outputs": [],
   "source": [
    "review.to_json(r'./preprocessedPOSTrain.json', orient='records', lines=True)"
   ]
  }
 ],
 "metadata": {
  "kernelspec": {
   "display_name": "Python 3",
   "language": "python",
   "name": "python3"
  },
  "language_info": {
   "codemirror_mode": {
    "name": "ipython",
    "version": 3
   },
   "file_extension": ".py",
   "mimetype": "text/x-python",
   "name": "python",
   "nbconvert_exporter": "python",
   "pygments_lexer": "ipython3",
   "version": "3.8.3"
  }
 },
 "nbformat": 4,
 "nbformat_minor": 4
}
